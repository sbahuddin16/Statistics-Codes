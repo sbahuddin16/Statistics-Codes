{
 "cells": [
  {
   "cell_type": "code",
   "execution_count": 1,
   "id": "3bad5624",
   "metadata": {},
   "outputs": [
    {
     "data": {
      "text/html": [
       "<div>\n",
       "<style scoped>\n",
       "    .dataframe tbody tr th:only-of-type {\n",
       "        vertical-align: middle;\n",
       "    }\n",
       "\n",
       "    .dataframe tbody tr th {\n",
       "        vertical-align: top;\n",
       "    }\n",
       "\n",
       "    .dataframe thead th {\n",
       "        text-align: right;\n",
       "    }\n",
       "</style>\n",
       "<table border=\"1\" class=\"dataframe\">\n",
       "  <thead>\n",
       "    <tr style=\"text-align: right;\">\n",
       "      <th></th>\n",
       "      <th>x1</th>\n",
       "      <th>x2</th>\n",
       "    </tr>\n",
       "  </thead>\n",
       "  <tbody>\n",
       "    <tr>\n",
       "      <th>0</th>\n",
       "      <td>-1.383423</td>\n",
       "      <td>0</td>\n",
       "    </tr>\n",
       "    <tr>\n",
       "      <th>1</th>\n",
       "      <td>0.491178</td>\n",
       "      <td>0</td>\n",
       "    </tr>\n",
       "    <tr>\n",
       "      <th>2</th>\n",
       "      <td>-0.528827</td>\n",
       "      <td>0</td>\n",
       "    </tr>\n",
       "    <tr>\n",
       "      <th>3</th>\n",
       "      <td>-0.359455</td>\n",
       "      <td>0</td>\n",
       "    </tr>\n",
       "    <tr>\n",
       "      <th>4</th>\n",
       "      <td>0.173340</td>\n",
       "      <td>0</td>\n",
       "    </tr>\n",
       "  </tbody>\n",
       "</table>\n",
       "</div>"
      ],
      "text/plain": [
       "         x1  x2\n",
       "0 -1.383423   0\n",
       "1  0.491178   0\n",
       "2 -0.528827   0\n",
       "3 -0.359455   0\n",
       "4  0.173340   0"
      ]
     },
     "execution_count": 1,
     "metadata": {},
     "output_type": "execute_result"
    }
   ],
   "source": [
    "import pandas as pd\n",
    "import matplotlib.pyplot as plt\n",
    "import matplotlib.mlab as mlab\n",
    "import seaborn as sns\n",
    "from sklearn.linear_model import LinearRegression\n",
    "import statsmodels.api as sm\n",
    "from pandas import Grouper\n",
    "import numpy as np\n",
    "import scipy.stats as stats\n",
    "import statsmodels.api as sm\n",
    "import pylab as py\n",
    "from sklearn.linear_model import LinearRegression\n",
    "import statistics\n",
    "from sklearn.model_selection import train_test_split\n",
    "import numpy\n",
    "import math\n",
    "\n",
    "\n",
    "dfX = pd.read_csv('X.csv',encoding='cp1252')\n",
    "dfX.head()"
   ]
  },
  {
   "cell_type": "markdown",
   "id": "dc129fef",
   "metadata": {},
   "source": [
    "# Task 01"
   ]
  },
  {
   "cell_type": "code",
   "execution_count": 2,
   "id": "d9937c24",
   "metadata": {},
   "outputs": [
    {
     "data": {
      "text/html": [
       "<div>\n",
       "<style scoped>\n",
       "    .dataframe tbody tr th:only-of-type {\n",
       "        vertical-align: middle;\n",
       "    }\n",
       "\n",
       "    .dataframe tbody tr th {\n",
       "        vertical-align: top;\n",
       "    }\n",
       "\n",
       "    .dataframe thead th {\n",
       "        text-align: right;\n",
       "    }\n",
       "</style>\n",
       "<table border=\"1\" class=\"dataframe\">\n",
       "  <thead>\n",
       "    <tr style=\"text-align: right;\">\n",
       "      <th></th>\n",
       "      <th>time</th>\n",
       "    </tr>\n",
       "  </thead>\n",
       "  <tbody>\n",
       "    <tr>\n",
       "      <th>0</th>\n",
       "      <td>0.1</td>\n",
       "    </tr>\n",
       "    <tr>\n",
       "      <th>1</th>\n",
       "      <td>0.2</td>\n",
       "    </tr>\n",
       "    <tr>\n",
       "      <th>2</th>\n",
       "      <td>0.3</td>\n",
       "    </tr>\n",
       "    <tr>\n",
       "      <th>3</th>\n",
       "      <td>0.4</td>\n",
       "    </tr>\n",
       "    <tr>\n",
       "      <th>4</th>\n",
       "      <td>0.5</td>\n",
       "    </tr>\n",
       "  </tbody>\n",
       "</table>\n",
       "</div>"
      ],
      "text/plain": [
       "   time\n",
       "0   0.1\n",
       "1   0.2\n",
       "2   0.3\n",
       "3   0.4\n",
       "4   0.5"
      ]
     },
     "execution_count": 2,
     "metadata": {},
     "output_type": "execute_result"
    }
   ],
   "source": [
    "dfT = pd.read_csv('time.csv',encoding='cp1252')\n",
    "dfT.head()"
   ]
  },
  {
   "cell_type": "code",
   "execution_count": 3,
   "id": "50d59995",
   "metadata": {},
   "outputs": [
    {
     "data": {
      "text/html": [
       "<div>\n",
       "<style scoped>\n",
       "    .dataframe tbody tr th:only-of-type {\n",
       "        vertical-align: middle;\n",
       "    }\n",
       "\n",
       "    .dataframe tbody tr th {\n",
       "        vertical-align: top;\n",
       "    }\n",
       "\n",
       "    .dataframe thead th {\n",
       "        text-align: right;\n",
       "    }\n",
       "</style>\n",
       "<table border=\"1\" class=\"dataframe\">\n",
       "  <thead>\n",
       "    <tr style=\"text-align: right;\">\n",
       "      <th></th>\n",
       "      <th>y</th>\n",
       "    </tr>\n",
       "  </thead>\n",
       "  <tbody>\n",
       "    <tr>\n",
       "      <th>0</th>\n",
       "      <td>10.677616</td>\n",
       "    </tr>\n",
       "    <tr>\n",
       "      <th>1</th>\n",
       "      <td>18.885513</td>\n",
       "    </tr>\n",
       "    <tr>\n",
       "      <th>2</th>\n",
       "      <td>11.246081</td>\n",
       "    </tr>\n",
       "    <tr>\n",
       "      <th>3</th>\n",
       "      <td>9.364583</td>\n",
       "    </tr>\n",
       "    <tr>\n",
       "      <th>4</th>\n",
       "      <td>13.434298</td>\n",
       "    </tr>\n",
       "  </tbody>\n",
       "</table>\n",
       "</div>"
      ],
      "text/plain": [
       "           y\n",
       "0  10.677616\n",
       "1  18.885513\n",
       "2  11.246081\n",
       "3   9.364583\n",
       "4  13.434298"
      ]
     },
     "execution_count": 3,
     "metadata": {},
     "output_type": "execute_result"
    }
   ],
   "source": [
    "dfY = pd.read_csv('Y.csv',encoding='cp1252')\n",
    "dfY.head()"
   ]
  },
  {
   "cell_type": "markdown",
   "id": "8454aad2",
   "metadata": {},
   "source": [
    "# Normal Distribution"
   ]
  },
  {
   "cell_type": "code",
   "execution_count": 4,
   "id": "405d5d91",
   "metadata": {},
   "outputs": [
    {
     "name": "stderr",
     "output_type": "stream",
     "text": [
      "C:\\Users\\PC\\anaconda3\\lib\\site-packages\\seaborn\\distributions.py:2619: FutureWarning: `distplot` is a deprecated function and will be removed in a future version. Please adapt your code to use either `displot` (a figure-level function with similar flexibility) or `histplot` (an axes-level function for histograms).\n",
      "  warnings.warn(msg, FutureWarning)\n"
     ]
    },
    {
     "data": {
      "image/png": "[encoded data removed]",
      "text/plain": [
       "<Figure size 432x288 with 1 Axes>"
      ]
     },
     "metadata": {
      "needs_background": "light"
     },
     "output_type": "display_data"
    }
   ],
   "source": [
    "# plotting a histogram\n",
    "ax = sns.distplot(dfX,\n",
    "                  bins=50,\n",
    "                  kde=True,\n",
    "                  color='red',\n",
    "                  hist_kws={\"linewidth\": 15,'alpha':1})\n",
    "ax.set(xlabel='Normal Distribution', ylabel='Frequency')\n",
    " \n",
    "plt.show()"
   ]
  },
  {
   "cell_type": "code",
   "execution_count": 5,
   "id": "6f8ab00d",
   "metadata": {},
   "outputs": [
    {
     "name": "stderr",
     "output_type": "stream",
     "text": [
      "C:\\Users\\PC\\anaconda3\\lib\\site-packages\\seaborn\\distributions.py:2619: FutureWarning: `distplot` is a deprecated function and will be removed in a future version. Please adapt your code to use either `displot` (a figure-level function with similar flexibility) or `histplot` (an axes-level function for histograms).\n",
      "  warnings.warn(msg, FutureWarning)\n"
     ]
    },
    {
     "data": {
      "image/png": "[encoded data removed]",
      "text/plain": [
       "<Figure size 432x288 with 1 Axes>"
      ]
     },
     "metadata": {
      "needs_background": "light"
     },
     "output_type": "display_data"
    }
   ],
   "source": [
    "# plotting a histogram\n",
    "ax = sns.distplot(dfY,\n",
    "                  bins=50,\n",
    "                  kde=True,\n",
    "                  color='red',\n",
    "                  hist_kws={\"linewidth\": 15,'alpha':1})\n",
    "ax.set(xlabel='Normal Distribution', ylabel='Frequency')\n",
    " \n",
    "plt.show()"
   ]
  },
  {
   "cell_type": "code",
   "execution_count": 6,
   "id": "a9bacc81",
   "metadata": {},
   "outputs": [
    {
     "name": "stderr",
     "output_type": "stream",
     "text": [
      "C:\\Users\\PC\\anaconda3\\lib\\site-packages\\seaborn\\distributions.py:2619: FutureWarning: `distplot` is a deprecated function and will be removed in a future version. Please adapt your code to use either `displot` (a figure-level function with similar flexibility) or `histplot` (an axes-level function for histograms).\n",
      "  warnings.warn(msg, FutureWarning)\n"
     ]
    },
    {
     "data": {
      "image/png": "[encoded data removed]",
      "text/plain": [
       "<Figure size 432x288 with 1 Axes>"
      ]
     },
     "metadata": {
      "needs_background": "light"
     },
     "output_type": "display_data"
    }
   ],
   "source": [
    "# plotting a histogram\n",
    "ax = sns.distplot(dfT,\n",
    "                  bins=50,\n",
    "                  kde=True,\n",
    "                  color='red',\n",
    "                  hist_kws={\"linewidth\": 15,'alpha':1})\n",
    "ax.set(xlabel='Normal Distribution', ylabel='Frequency')\n",
    " \n",
    "plt.show()"
   ]
  },
  {
   "cell_type": "markdown",
   "id": "b71cd39d",
   "metadata": {},
   "source": [
    "# Statistical Analysis"
   ]
  },
  {
   "cell_type": "code",
   "execution_count": 7,
   "id": "878186cf",
   "metadata": {},
   "outputs": [
    {
     "data": {
      "text/html": [
       "<div>\n",
       "<style scoped>\n",
       "    .dataframe tbody tr th:only-of-type {\n",
       "        vertical-align: middle;\n",
       "    }\n",
       "\n",
       "    .dataframe tbody tr th {\n",
       "        vertical-align: top;\n",
       "    }\n",
       "\n",
       "    .dataframe thead th {\n",
       "        text-align: right;\n",
       "    }\n",
       "</style>\n",
       "<table border=\"1\" class=\"dataframe\">\n",
       "  <thead>\n",
       "    <tr style=\"text-align: right;\">\n",
       "      <th></th>\n",
       "      <th>x1</th>\n",
       "      <th>x2</th>\n",
       "    </tr>\n",
       "  </thead>\n",
       "  <tbody>\n",
       "    <tr>\n",
       "      <th>count</th>\n",
       "      <td>200.000000</td>\n",
       "      <td>200.000000</td>\n",
       "    </tr>\n",
       "    <tr>\n",
       "      <th>mean</th>\n",
       "      <td>0.065065</td>\n",
       "      <td>0.500000</td>\n",
       "    </tr>\n",
       "    <tr>\n",
       "      <th>std</th>\n",
       "      <td>1.042515</td>\n",
       "      <td>0.501255</td>\n",
       "    </tr>\n",
       "    <tr>\n",
       "      <th>min</th>\n",
       "      <td>-3.066635</td>\n",
       "      <td>0.000000</td>\n",
       "    </tr>\n",
       "    <tr>\n",
       "      <th>25%</th>\n",
       "      <td>-0.680266</td>\n",
       "      <td>0.000000</td>\n",
       "    </tr>\n",
       "    <tr>\n",
       "      <th>50%</th>\n",
       "      <td>0.109326</td>\n",
       "      <td>0.500000</td>\n",
       "    </tr>\n",
       "    <tr>\n",
       "      <th>75%</th>\n",
       "      <td>0.754653</td>\n",
       "      <td>1.000000</td>\n",
       "    </tr>\n",
       "    <tr>\n",
       "      <th>max</th>\n",
       "      <td>2.858984</td>\n",
       "      <td>1.000000</td>\n",
       "    </tr>\n",
       "  </tbody>\n",
       "</table>\n",
       "</div>"
      ],
      "text/plain": [
       "               x1          x2\n",
       "count  200.000000  200.000000\n",
       "mean     0.065065    0.500000\n",
       "std      1.042515    0.501255\n",
       "min     -3.066635    0.000000\n",
       "25%     -0.680266    0.000000\n",
       "50%      0.109326    0.500000\n",
       "75%      0.754653    1.000000\n",
       "max      2.858984    1.000000"
      ]
     },
     "execution_count": 7,
     "metadata": {},
     "output_type": "execute_result"
    }
   ],
   "source": [
    "dfX.describe()"
   ]
  },
  {
   "cell_type": "code",
   "execution_count": 8,
   "id": "dc6a272d",
   "metadata": {},
   "outputs": [
    {
     "name": "stdout",
     "output_type": "stream",
     "text": [
      "aaaaa\n"
     ]
    }
   ],
   "source": [
    "print(\"aaaaa\")"
   ]
  },
  {
   "cell_type": "code",
   "execution_count": 9,
   "id": "87272146",
   "metadata": {},
   "outputs": [
    {
     "data": {
      "text/html": [
       "<div>\n",
       "<style scoped>\n",
       "    .dataframe tbody tr th:only-of-type {\n",
       "        vertical-align: middle;\n",
       "    }\n",
       "\n",
       "    .dataframe tbody tr th {\n",
       "        vertical-align: top;\n",
       "    }\n",
       "\n",
       "    .dataframe thead th {\n",
       "        text-align: right;\n",
       "    }\n",
       "</style>\n",
       "<table border=\"1\" class=\"dataframe\">\n",
       "  <thead>\n",
       "    <tr style=\"text-align: right;\">\n",
       "      <th></th>\n",
       "      <th>y</th>\n",
       "    </tr>\n",
       "  </thead>\n",
       "  <tbody>\n",
       "    <tr>\n",
       "      <th>count</th>\n",
       "      <td>200.000000</td>\n",
       "    </tr>\n",
       "    <tr>\n",
       "      <th>mean</th>\n",
       "      <td>18.604033</td>\n",
       "    </tr>\n",
       "    <tr>\n",
       "      <th>std</th>\n",
       "      <td>11.879710</td>\n",
       "    </tr>\n",
       "    <tr>\n",
       "      <th>min</th>\n",
       "      <td>1.041340</td>\n",
       "    </tr>\n",
       "    <tr>\n",
       "      <th>25%</th>\n",
       "      <td>10.843684</td>\n",
       "    </tr>\n",
       "    <tr>\n",
       "      <th>50%</th>\n",
       "      <td>15.079138</td>\n",
       "    </tr>\n",
       "    <tr>\n",
       "      <th>75%</th>\n",
       "      <td>23.141470</td>\n",
       "    </tr>\n",
       "    <tr>\n",
       "      <th>max</th>\n",
       "      <td>66.900218</td>\n",
       "    </tr>\n",
       "  </tbody>\n",
       "</table>\n",
       "</div>"
      ],
      "text/plain": [
       "                y\n",
       "count  200.000000\n",
       "mean    18.604033\n",
       "std     11.879710\n",
       "min      1.041340\n",
       "25%     10.843684\n",
       "50%     15.079138\n",
       "75%     23.141470\n",
       "max     66.900218"
      ]
     },
     "execution_count": 9,
     "metadata": {},
     "output_type": "execute_result"
    }
   ],
   "source": [
    "dfY.describe()"
   ]
  },
  {
   "cell_type": "code",
   "execution_count": 10,
   "id": "8959ea41",
   "metadata": {},
   "outputs": [
    {
     "data": {
      "text/html": [
       "<div>\n",
       "<style scoped>\n",
       "    .dataframe tbody tr th:only-of-type {\n",
       "        vertical-align: middle;\n",
       "    }\n",
       "\n",
       "    .dataframe tbody tr th {\n",
       "        vertical-align: top;\n",
       "    }\n",
       "\n",
       "    .dataframe thead th {\n",
       "        text-align: right;\n",
       "    }\n",
       "</style>\n",
       "<table border=\"1\" class=\"dataframe\">\n",
       "  <thead>\n",
       "    <tr style=\"text-align: right;\">\n",
       "      <th></th>\n",
       "      <th>time</th>\n",
       "    </tr>\n",
       "  </thead>\n",
       "  <tbody>\n",
       "    <tr>\n",
       "      <th>count</th>\n",
       "      <td>200.000000</td>\n",
       "    </tr>\n",
       "    <tr>\n",
       "      <th>mean</th>\n",
       "      <td>10.050000</td>\n",
       "    </tr>\n",
       "    <tr>\n",
       "      <th>std</th>\n",
       "      <td>5.787918</td>\n",
       "    </tr>\n",
       "    <tr>\n",
       "      <th>min</th>\n",
       "      <td>0.100000</td>\n",
       "    </tr>\n",
       "    <tr>\n",
       "      <th>25%</th>\n",
       "      <td>5.075000</td>\n",
       "    </tr>\n",
       "    <tr>\n",
       "      <th>50%</th>\n",
       "      <td>10.050000</td>\n",
       "    </tr>\n",
       "    <tr>\n",
       "      <th>75%</th>\n",
       "      <td>15.025000</td>\n",
       "    </tr>\n",
       "    <tr>\n",
       "      <th>max</th>\n",
       "      <td>20.000000</td>\n",
       "    </tr>\n",
       "  </tbody>\n",
       "</table>\n",
       "</div>"
      ],
      "text/plain": [
       "             time\n",
       "count  200.000000\n",
       "mean    10.050000\n",
       "std      5.787918\n",
       "min      0.100000\n",
       "25%      5.075000\n",
       "50%     10.050000\n",
       "75%     15.025000\n",
       "max     20.000000"
      ]
     },
     "execution_count": 10,
     "metadata": {},
     "output_type": "execute_result"
    }
   ],
   "source": [
    "dfT.describe()"
   ]
  },
  {
   "cell_type": "markdown",
   "id": "81c2e9e9",
   "metadata": {},
   "source": [
    "# Histogram"
   ]
  },
  {
   "cell_type": "code",
   "execution_count": 11,
   "id": "2d4282e9",
   "metadata": {},
   "outputs": [
    {
     "data": {
      "text/plain": [
       "array([[<AxesSubplot:title={'center':'x1'}>,\n",
       "        <AxesSubplot:title={'center':'x2'}>]], dtype=object)"
      ]
     },
     "execution_count": 11,
     "metadata": {},
     "output_type": "execute_result"
    },
    {
     "data": {
      "image/png": "[encoded data removed]",
      "text/plain": [
       "<Figure size 432x288 with 2 Axes>"
      ]
     },
     "metadata": {
      "needs_background": "light"
     },
     "output_type": "display_data"
    }
   ],
   "source": [
    "dfX.hist()"
   ]
  },
  {
   "cell_type": "code",
   "execution_count": 12,
   "id": "c4c128fb",
   "metadata": {},
   "outputs": [
    {
     "data": {
      "text/plain": [
       "array([[<AxesSubplot:title={'center':'y'}>]], dtype=object)"
      ]
     },
     "execution_count": 12,
     "metadata": {},
     "output_type": "execute_result"
    },
    {
     "data": {
      "image/png": "[encoded data removed]",
      "text/plain": [
       "<Figure size 432x288 with 1 Axes>"
      ]
     },
     "metadata": {
      "needs_background": "light"
     },
     "output_type": "display_data"
    }
   ],
   "source": [
    "dfY.hist()"
   ]
  },
  {
   "cell_type": "code",
   "execution_count": 13,
   "id": "14a047df",
   "metadata": {},
   "outputs": [
    {
     "data": {
      "text/plain": [
       "array([[<AxesSubplot:title={'center':'time'}>]], dtype=object)"
      ]
     },
     "execution_count": 13,
     "metadata": {},
     "output_type": "execute_result"
    },
    {
     "data": {
      "image/png": "[encoded data removed]",
      "text/plain": [
       "<Figure size 432x288 with 1 Axes>"
      ]
     },
     "metadata": {
      "needs_background": "light"
     },
     "output_type": "display_data"
    }
   ],
   "source": [
    "dfT.hist()"
   ]
  },
  {
   "cell_type": "markdown",
   "id": "78836f33",
   "metadata": {},
   "source": [
    "# Time Series (Whole Input and Data)"
   ]
  },
  {
   "cell_type": "code",
   "execution_count": 14,
   "id": "a7c695e3",
   "metadata": {},
   "outputs": [
    {
     "data": {
      "image/png": "[encoded data removed]",
      "text/plain": [
       "<Figure size 720x432 with 1 Axes>"
      ]
     },
     "metadata": {
      "needs_background": "light"
     },
     "output_type": "display_data"
    }
   ],
   "source": [
    "plt.rc('font', size=12)\n",
    "fig, ax = plt.subplots(figsize=(10, 6))\n",
    "\n",
    "# Specify how our lines should look\n",
    "ax.plot(dfT.time, dfY.y, color='tab:orange', label='Audio Signals')\n",
    "\n",
    "# Same as above\n",
    "ax.set_xlabel('Input Signals')\n",
    "ax.set_ylabel('Output')\n",
    "ax.set_title('MEG Signals')\n",
    "ax.grid(True)\n",
    "ax.legend(loc='upper left');"
   ]
  },
  {
   "cell_type": "code",
   "execution_count": 15,
   "id": "0e085b0a",
   "metadata": {},
   "outputs": [],
   "source": [
    "filterZero=dfX[(dfX['x2']==1)]\n",
    "filterOne=dfX[(dfX['x2']==0)]\n",
    "\n",
    "time0=dfT[(dfX['x2']==0)]\n",
    "time1=dfT[(dfX['x2']==1)]\n",
    "\n",
    "y0=dfT[(dfX['x2']==0)]\n",
    "y1=dfT[(dfX['x2']==1)]\n",
    "\n",
    "#print(time0  ,\":\", y0)\n",
    "#print(time1 ,\":\", y1)"
   ]
  },
  {
   "cell_type": "markdown",
   "id": "983591c1",
   "metadata": {},
   "source": [
    "# Time Series Plot When x2=0"
   ]
  },
  {
   "cell_type": "code",
   "execution_count": 16,
   "id": "2b4040c0",
   "metadata": {},
   "outputs": [
    {
     "data": {
      "image/png": "[encoded data removed]",
      "text/plain": [
       "<Figure size 432x288 with 1 Axes>"
      ]
     },
     "metadata": {
      "needs_background": "light"
     },
     "output_type": "display_data"
    }
   ],
   "source": [
    "x0 = np.array(time0)\n",
    "y0 = np.array(y0)\n",
    "\n",
    "plt.plot(x0,y0)\n",
    "plt.show()"
   ]
  },
  {
   "cell_type": "markdown",
   "id": "340dfe24",
   "metadata": {},
   "source": [
    "# Time Series plot when x2=1"
   ]
  },
  {
   "cell_type": "code",
   "execution_count": 17,
   "id": "7685265c",
   "metadata": {},
   "outputs": [
    {
     "data": {
      "image/png": "[encoded data removed]",
      "text/plain": [
       "<Figure size 432x288 with 1 Axes>"
      ]
     },
     "metadata": {
      "needs_background": "light"
     },
     "output_type": "display_data"
    }
   ],
   "source": [
    "x1 = np.array(time1)\n",
    "y1 = np.array(y1)\n",
    "\n",
    "plt.plot(x1,y1)\n",
    "plt.show()"
   ]
  },
  {
   "cell_type": "markdown",
   "id": "a0d94c36",
   "metadata": {},
   "source": [
    "# Scatter Plot when x2=1"
   ]
  },
  {
   "cell_type": "code",
   "execution_count": 18,
   "id": "486721cb",
   "metadata": {},
   "outputs": [
    {
     "data": {
      "text/plain": [
       "<matplotlib.collections.PathCollection at 0xf92f6a78e0>"
      ]
     },
     "execution_count": 18,
     "metadata": {},
     "output_type": "execute_result"
    },
    {
     "data": {
      "image/png": "[encoded data removed]",
      "text/plain": [
       "<Figure size 432x288 with 1 Axes>"
      ]
     },
     "metadata": {
      "needs_background": "light"
     },
     "output_type": "display_data"
    }
   ],
   "source": [
    "plt.scatter(x1,y1)"
   ]
  },
  {
   "cell_type": "markdown",
   "id": "23f88a12",
   "metadata": {},
   "source": [
    "# Scatter plot when x2=0"
   ]
  },
  {
   "cell_type": "code",
   "execution_count": 19,
   "id": "35ffacbd",
   "metadata": {},
   "outputs": [
    {
     "data": {
      "text/plain": [
       "<matplotlib.collections.PathCollection at 0xf92f716c10>"
      ]
     },
     "execution_count": 19,
     "metadata": {},
     "output_type": "execute_result"
    },
    {
     "data": {
      "image/png": "[encoded data removed]",
      "text/plain": [
       "<Figure size 432x288 with 1 Axes>"
      ]
     },
     "metadata": {
      "needs_background": "light"
     },
     "output_type": "display_data"
    }
   ],
   "source": [
    "plt.scatter(x0,y0)"
   ]
  },
  {
   "cell_type": "markdown",
   "id": "43361e96",
   "metadata": {},
   "source": [
    "# Correlation"
   ]
  },
  {
   "cell_type": "code",
   "execution_count": 20,
   "id": "6dbaa3b8",
   "metadata": {},
   "outputs": [
    {
     "name": "stdout",
     "output_type": "stream",
     "text": [
      "          x1        x2\n",
      "x1  1.000000  0.068295\n",
      "x2  0.068295  1.000000\n"
     ]
    }
   ],
   "source": [
    "corrMatrix = dfX.corr()\n",
    "print (dfX.corr())"
   ]
  },
  {
   "cell_type": "code",
   "execution_count": 21,
   "id": "401e643e",
   "metadata": {},
   "outputs": [
    {
     "data": {
      "image/png": "[encoded data removed]",
      "text/plain": [
       "<Figure size 432x288 with 2 Axes>"
      ]
     },
     "metadata": {
      "needs_background": "light"
     },
     "output_type": "display_data"
    }
   ],
   "source": [
    "sns.heatmap(corrMatrix, annot=True)\n",
    "plt.show()"
   ]
  },
  {
   "cell_type": "markdown",
   "id": "97f51798",
   "metadata": {},
   "source": [
    "# Box Plot"
   ]
  },
  {
   "cell_type": "code",
   "execution_count": 22,
   "id": "d2030f42",
   "metadata": {},
   "outputs": [
    {
     "data": {
      "image/png": "[encoded data removed]",
      "text/plain": [
       "<Figure size 432x288 with 1 Axes>"
      ]
     },
     "metadata": {
      "needs_background": "light"
     },
     "output_type": "display_data"
    }
   ],
   "source": [
    "# Creating plot\n",
    "plt.boxplot(dfY)\n",
    " \n",
    "# show plot\n",
    "plt.show()"
   ]
  },
  {
   "cell_type": "markdown",
   "id": "b01255fc",
   "metadata": {},
   "source": [
    "# Input/output Correlation Measure"
   ]
  },
  {
   "cell_type": "code",
   "execution_count": 23,
   "id": "175ba94e",
   "metadata": {},
   "outputs": [
    {
     "data": {
      "image/png": "[encoded data removed]",
      "text/plain": [
       "<Figure size 432x288 with 1 Axes>"
      ]
     },
     "metadata": {
      "needs_background": "light"
     },
     "output_type": "display_data"
    }
   ],
   "source": [
    "# plot\n",
    "plt.scatter(dfX.x2, dfY)\n",
    "plt.show()"
   ]
  },
  {
   "cell_type": "markdown",
   "id": "cc40134a",
   "metadata": {},
   "source": [
    "# Apply Linear Model When x2=0"
   ]
  },
  {
   "cell_type": "code",
   "execution_count": 24,
   "id": "64744c6e",
   "metadata": {},
   "outputs": [
    {
     "data": {
      "text/plain": [
       "LinearRegression()"
      ]
     },
     "execution_count": 24,
     "metadata": {},
     "output_type": "execute_result"
    }
   ],
   "source": [
    "regressor = LinearRegression()\n",
    "regressor.fit(x0, y0)"
   ]
  },
  {
   "cell_type": "code",
   "execution_count": 25,
   "id": "3595480f",
   "metadata": {},
   "outputs": [],
   "source": [
    "y_pred = regressor.predict(x0)"
   ]
  },
  {
   "cell_type": "code",
   "execution_count": 26,
   "id": "a277c311",
   "metadata": {},
   "outputs": [
    {
     "data": {
      "image/png": "[encoded data removed]",
      "text/plain": [
       "<Figure size 432x288 with 1 Axes>"
      ]
     },
     "metadata": {
      "needs_background": "light"
     },
     "output_type": "display_data"
    }
   ],
   "source": [
    "plt.scatter(x0, y0, color = 'red')\n",
    "plt.plot(x0, regressor.predict(x0), color = 'blue')\n",
    "plt.title('MEG Signals')\n",
    "plt.xlabel('input signals')\n",
    "plt.ylabel('output signals')\n",
    "plt.show()"
   ]
  },
  {
   "cell_type": "markdown",
   "id": "b98046e0",
   "metadata": {},
   "source": [
    "# Apply Linear Model When x2=1"
   ]
  },
  {
   "cell_type": "code",
   "execution_count": 27,
   "id": "994e585b",
   "metadata": {},
   "outputs": [
    {
     "data": {
      "text/plain": [
       "LinearRegression()"
      ]
     },
     "execution_count": 27,
     "metadata": {},
     "output_type": "execute_result"
    }
   ],
   "source": [
    "regressor = LinearRegression()\n",
    "regressor.fit(x1, y1)"
   ]
  },
  {
   "cell_type": "code",
   "execution_count": 28,
   "id": "5c767f79",
   "metadata": {},
   "outputs": [],
   "source": [
    "y_pred = regressor.predict(x1)"
   ]
  },
  {
   "cell_type": "code",
   "execution_count": 29,
   "id": "f309143d",
   "metadata": {},
   "outputs": [
    {
     "data": {
      "image/png": "[encoded data removed]",
      "text/plain": [
       "<Figure size 432x288 with 1 Axes>"
      ]
     },
     "metadata": {
      "needs_background": "light"
     },
     "output_type": "display_data"
    }
   ],
   "source": [
    "plt.scatter(x1, y1, color = 'red')\n",
    "plt.plot(x1, regressor.predict(x1), color = 'blue')\n",
    "plt.title('MEG Signals')\n",
    "plt.xlabel('input signals')\n",
    "plt.ylabel('output signals')\n",
    "plt.show()"
   ]
  },
  {
   "cell_type": "markdown",
   "id": "418eea82",
   "metadata": {},
   "source": [
    "# Least Square Method"
   ]
  },
  {
   "cell_type": "code",
   "execution_count": 30,
   "id": "cf7ce0d9",
   "metadata": {},
   "outputs": [
    {
     "name": "stdout",
     "output_type": "stream",
     "text": [
      "X shape: (200, 1)\n",
      "Y shape: (200,)\n"
     ]
    }
   ],
   "source": [
    "# Note that we select a list of columns to return a matrix (n,p)\n",
    "X = dfX[['x1']].values\n",
    "print(\"X shape:\", X.shape)\n",
    "\n",
    "Y = dfY['y'].values\n",
    "print(\"Y shape:\", Y.shape)"
   ]
  },
  {
   "cell_type": "code",
   "execution_count": 31,
   "id": "98b2768f",
   "metadata": {},
   "outputs": [
    {
     "data": {
      "text/plain": [
       "array([[ 0.49117837,  1.        ],\n",
       "       [-0.52882715,  1.        ],\n",
       "       [-0.35945483,  1.        ],\n",
       "       [ 0.17333997,  1.        ]])"
      ]
     },
     "execution_count": 31,
     "metadata": {},
     "output_type": "execute_result"
    }
   ],
   "source": [
    "phiX = np.hstack([X, np.ones(X.shape)])\n",
    "phiX[1:5,:]"
   ]
  },
  {
   "cell_type": "code",
   "execution_count": 32,
   "id": "02c4adc3",
   "metadata": {},
   "outputs": [
    {
     "data": {
      "text/plain": [
       "array([ 8.72150983, 18.03657153])"
      ]
     },
     "execution_count": 32,
     "metadata": {},
     "output_type": "execute_result"
    }
   ],
   "source": [
    "theta_hat = np.linalg.inv(phiX.T @ phiX) @ phiX.T @ Y\n",
    "theta_hat"
   ]
  },
  {
   "cell_type": "code",
   "execution_count": 33,
   "id": "f678a1a0",
   "metadata": {},
   "outputs": [
    {
     "data": {
      "text/plain": [
       "array([ 8.72150983, 18.03657153])"
      ]
     },
     "execution_count": 33,
     "metadata": {},
     "output_type": "execute_result"
    }
   ],
   "source": [
    "theta_hat = np.linalg.solve(phiX.T @ phiX, phiX.T @ Y)\n",
    "theta_hat"
   ]
  },
  {
   "cell_type": "code",
   "execution_count": 34,
   "id": "f71878d8",
   "metadata": {},
   "outputs": [
    {
     "name": "stdout",
     "output_type": "stream",
     "text": [
      "Mean is : 0.06506453870405378\n",
      "Mean is : 0.5\n"
     ]
    }
   ],
   "source": [
    "x1Mean = statistics.mean(dfX['x1'])\n",
    "x2Mean = statistics.mean(dfX['x2'])\n",
    " \n",
    "# Printing the mean\n",
    "print(\"Mean is :\", x1Mean)\n",
    "print(\"Mean is :\", x2Mean)"
   ]
  },
  {
   "cell_type": "code",
   "execution_count": 35,
   "id": "8c9ce337",
   "metadata": {},
   "outputs": [
    {
     "data": {
      "text/plain": [
       "8.721509834955649"
      ]
     },
     "execution_count": 35,
     "metadata": {},
     "output_type": "execute_result"
    }
   ],
   "source": [
    "theta_hat[0]"
   ]
  },
  {
   "cell_type": "code",
   "execution_count": 36,
   "id": "bc10b276",
   "metadata": {},
   "outputs": [
    {
     "data": {
      "text/plain": [
       "18.03657153265574"
      ]
     },
     "execution_count": 36,
     "metadata": {},
     "output_type": "execute_result"
    }
   ],
   "source": [
    "theta_hat[1]"
   ]
  },
  {
   "cell_type": "code",
   "execution_count": 37,
   "id": "670918bf",
   "metadata": {},
   "outputs": [
    {
     "name": "stdout",
     "output_type": "stream",
     "text": [
      "The value of epsilon is: 2.220446049250313e-16\n"
     ]
    }
   ],
   "source": [
    "epsilon=numpy.finfo('float').eps\n",
    "print(\"The value of epsilon is:\",epsilon)"
   ]
  },
  {
   "cell_type": "markdown",
   "id": "903c89d2",
   "metadata": {},
   "source": [
    "# Candidate Model 1"
   ]
  },
  {
   "cell_type": "code",
   "execution_count": 38,
   "id": "bcbaab1d",
   "metadata": {},
   "outputs": [
    {
     "name": "stdout",
     "output_type": "stream",
     "text": [
      "27.059846393284293\n"
     ]
    }
   ],
   "source": [
    "y1=theta_hat[1]*x1Mean**3+theta_hat[1]*x1Mean**5+theta_hat[1]*x2Mean+theta_hat[1]+epsilon\n",
    "print(y1)"
   ]
  },
  {
   "cell_type": "markdown",
   "id": "95a5f3f6",
   "metadata": {},
   "source": [
    "# Candidate Model 2"
   ]
  },
  {
   "cell_type": "code",
   "execution_count": 39,
   "id": "a7b88367",
   "metadata": {},
   "outputs": [
    {
     "name": "stdout",
     "output_type": "stream",
     "text": [
      "28.228398505558523\n"
     ]
    }
   ],
   "source": [
    "y2=theta_hat[1]*x1Mean+theta_hat[1]*x2Mean+theta_hat[1]+epsilon\n",
    "print(y2)"
   ]
  },
  {
   "cell_type": "markdown",
   "id": "bed3247c",
   "metadata": {},
   "source": [
    "# Candidate Model 3"
   ]
  },
  {
   "cell_type": "code",
   "execution_count": 40,
   "id": "b0be1329",
   "metadata": {},
   "outputs": [
    {
     "name": "stdout",
     "output_type": "stream",
     "text": [
      "28.30507766751152\n"
     ]
    }
   ],
   "source": [
    "y3=theta_hat[1]*x1Mean+theta_hat[1]*x1Mean**2+theta_hat[1]*x1Mean**4+theta_hat[1]*x2Mean+theta_hat[1]+epsilon\n",
    "print(y3)"
   ]
  },
  {
   "cell_type": "markdown",
   "id": "cfcf4057",
   "metadata": {},
   "source": [
    "# Candidate Model 4"
   ]
  },
  {
   "cell_type": "code",
   "execution_count": 41,
   "id": "ad14308c",
   "metadata": {},
   "outputs": [
    {
     "ename": "SyntaxError",
     "evalue": "invalid syntax (3222350217.py, line 1)",
     "output_type": "error",
     "traceback": [
      "\u001b[1;36m  Input \u001b[1;32mIn [41]\u001b[1;36m\u001b[0m\n\u001b[1;33m    y4=theta_hat[1]*x1Mean+theta_hat[1]*x1Mean**2+theta_hat[1]*x1Mean**3+theta_hat[1]*x1Mean**5+theta_hat[1]*x2Mean+\u001b[0m\n\u001b[1;37m                                                                                                                    ^\u001b[0m\n\u001b[1;31mSyntaxError\u001b[0m\u001b[1;31m:\u001b[0m invalid syntax\n"
     ]
    }
   ],
   "source": [
    "y4=theta_hat[1]*x1Mean+theta_hat[1]*x1Mean**2+theta_hat[1]*x1Mean**3+theta_hat[1]*x1Mean**5+theta_hat[1]*x2Mean+\n",
    "theta_hat[1]+epsilon\n",
    "print(y4)"
   ]
  },
  {
   "cell_type": "markdown",
   "id": "945b18a5",
   "metadata": {},
   "source": [
    "# Candidate Model 5\n"
   ]
  },
  {
   "cell_type": "code",
   "execution_count": null,
   "id": "0a5c4a7a",
   "metadata": {},
   "outputs": [],
   "source": [
    "y5=theta_hat[1]*x1Mean+theta_hat[1]*x1Mean**3+theta_hat[1]*x1Mean**4+theta_hat[1]*x2Mean+theta_hat[1]+epsilon\n",
    "print(y5)"
   ]
  },
  {
   "cell_type": "markdown",
   "id": "c2f83c72",
   "metadata": {},
   "source": [
    "# RSS"
   ]
  },
  {
   "cell_type": "code",
   "execution_count": null,
   "id": "a06882b7",
   "metadata": {},
   "outputs": [],
   "source": [
    "RSS1=(y1-x1Mean*theta_hat[1])**2\n",
    "print(RSS1)"
   ]
  },
  {
   "cell_type": "code",
   "execution_count": null,
   "id": "3c2a3cdb",
   "metadata": {},
   "outputs": [],
   "source": [
    "RSS2=(y2-x1Mean*theta_hat[1])**2\n",
    "print(RSS2)"
   ]
  },
  {
   "cell_type": "code",
   "execution_count": null,
   "id": "924880dd",
   "metadata": {},
   "outputs": [],
   "source": [
    "RSS3=(y3-x1Mean*theta_hat[1])**2\n",
    "print(RSS3)"
   ]
  },
  {
   "cell_type": "code",
   "execution_count": null,
   "id": "ad8c5eb4",
   "metadata": {},
   "outputs": [],
   "source": [
    "RSS4=(y4-x1Mean*theta_hat[1])**2\n",
    "print(RSS4)"
   ]
  },
  {
   "cell_type": "code",
   "execution_count": null,
   "id": "40628c39",
   "metadata": {},
   "outputs": [],
   "source": [
    "RSS5=(y5-x1Mean*theta_hat[1])**2\n",
    "print(RSS5)"
   ]
  },
  {
   "cell_type": "markdown",
   "id": "eacd19c5",
   "metadata": {},
   "source": [
    "# Calculate Theta_hat_Square"
   ]
  },
  {
   "cell_type": "code",
   "execution_count": null,
   "id": "e9a94826",
   "metadata": {},
   "outputs": [],
   "source": [
    "n=200"
   ]
  },
  {
   "cell_type": "code",
   "execution_count": null,
   "id": "c5414323",
   "metadata": {},
   "outputs": [],
   "source": [
    "theta_hat_sqr1=RSS1/n-1\n",
    "print(theta_hat_sqr1)"
   ]
  },
  {
   "cell_type": "code",
   "execution_count": null,
   "id": "a95102b4",
   "metadata": {},
   "outputs": [],
   "source": [
    "theta_hat_sqr2=RSS2/n-1\n",
    "print(theta_hat_sqr2)"
   ]
  },
  {
   "cell_type": "code",
   "execution_count": null,
   "id": "925aad1c",
   "metadata": {},
   "outputs": [],
   "source": [
    "theta_hat_sqr3=RSS3/n-1\n",
    "print(theta_hat_sqr3)"
   ]
  },
  {
   "cell_type": "code",
   "execution_count": null,
   "id": "920c2b43",
   "metadata": {},
   "outputs": [],
   "source": [
    "theta_hat_sqr4=RSS4/n-1\n",
    "print(theta_hat_sqr4)"
   ]
  },
  {
   "cell_type": "code",
   "execution_count": null,
   "id": "067facb5",
   "metadata": {},
   "outputs": [],
   "source": [
    "theta_hat_sqr5=RSS5/n-1\n",
    "print(theta_hat_sqr5)"
   ]
  },
  {
   "cell_type": "markdown",
   "id": "79e92b10",
   "metadata": {},
   "source": [
    "# Calculate log likelihood"
   ]
  },
  {
   "cell_type": "code",
   "execution_count": null,
   "id": "a7689667",
   "metadata": {},
   "outputs": [],
   "source": [
    "pi=math.pi\n",
    "print(pi)"
   ]
  },
  {
   "cell_type": "code",
   "execution_count": null,
   "id": "54a3b627",
   "metadata": {},
   "outputs": [],
   "source": [
    "LLH_1=-n/2*np.log(2*pi)-n/2*np.log(theta_hat_sqr1)**2-1/(2*theta_hat_sqr1**2)*RSS1\n",
    "print(LLH_1) "
   ]
  },
  {
   "cell_type": "code",
   "execution_count": null,
   "id": "625d5f4c",
   "metadata": {},
   "outputs": [],
   "source": [
    "LLH_2=-n/2*np.log(2*pi)-n/2*np.log(theta_hat_sqr2)**2-1/(2*theta_hat_sqr2**2)*RSS2\n",
    "print(LLH_2)"
   ]
  },
  {
   "cell_type": "code",
   "execution_count": null,
   "id": "bb779e62",
   "metadata": {},
   "outputs": [],
   "source": [
    "LLH_3=-n/2*np.log(2*pi)-n/2*np.log(theta_hat_sqr3)**2-1/(2*theta_hat_sqr3**2)*RSS3\n",
    "print(LLH_3)"
   ]
  },
  {
   "cell_type": "code",
   "execution_count": null,
   "id": "1fdf0069",
   "metadata": {},
   "outputs": [],
   "source": [
    "LLH_4=-n/2*np.log(2*pi)-n/2*np.log(theta_hat_sqr4)**2-1/(2*theta_hat_sqr4**2)*RSS4\n",
    "print(LLH_4)"
   ]
  },
  {
   "cell_type": "code",
   "execution_count": null,
   "id": "2ac027f6",
   "metadata": {},
   "outputs": [],
   "source": [
    "LLH_5=-n/2*np.log(2*pi)-n/2*np.log(theta_hat_sqr5)**2-1/(2*theta_hat_sqr5**2)*RSS5\n",
    "print(LLH_5)"
   ]
  },
  {
   "cell_type": "markdown",
   "id": "d768b0a5",
   "metadata": {},
   "source": [
    "# Akaike information criterion (AIC)"
   ]
  },
  {
   "cell_type": "code",
   "execution_count": null,
   "id": "9948dea2",
   "metadata": {},
   "outputs": [],
   "source": [
    "k=4\n",
    "AIC_1=2*k-2*LLH_1\n",
    "print(AIC_1)"
   ]
  },
  {
   "cell_type": "code",
   "execution_count": null,
   "id": "7cd65461",
   "metadata": {},
   "outputs": [],
   "source": [
    "k=3\n",
    "AIC_2=2*k-2*LLH_2\n",
    "print(AIC_2)"
   ]
  },
  {
   "cell_type": "code",
   "execution_count": null,
   "id": "1dff6bfa",
   "metadata": {},
   "outputs": [],
   "source": [
    "k=5\n",
    "AIC_3=2*k-2*LLH_3\n",
    "print(AIC_3)"
   ]
  },
  {
   "cell_type": "code",
   "execution_count": null,
   "id": "75587a57",
   "metadata": {},
   "outputs": [],
   "source": [
    "k=6\n",
    "AIC_4=2*k-2*LLH_4\n",
    "print(AIC_4)"
   ]
  },
  {
   "cell_type": "code",
   "execution_count": null,
   "id": "8e22131c",
   "metadata": {},
   "outputs": [],
   "source": [
    "k=5\n",
    "AIC_5=2*k-2*LLH_5\n",
    "print(AIC_5)"
   ]
  },
  {
   "cell_type": "markdown",
   "id": "99ae6e84",
   "metadata": {},
   "source": [
    "# Bayesian information criterion (BIC)"
   ]
  },
  {
   "cell_type": "code",
   "execution_count": null,
   "id": "c0aca100",
   "metadata": {},
   "outputs": [],
   "source": [
    "BIC_1=k*np.log(n)-2*(LLH_1)\n",
    "print(BIC_1)"
   ]
  },
  {
   "cell_type": "code",
   "execution_count": null,
   "id": "3635f4b7",
   "metadata": {},
   "outputs": [],
   "source": [
    "BIC_2=k*np.log(n)-2*(LLH_2)\n",
    "print(BIC_2)"
   ]
  },
  {
   "cell_type": "code",
   "execution_count": null,
   "id": "1f39aa60",
   "metadata": {},
   "outputs": [],
   "source": [
    "BIC_3=k*np.log(n)-2*(LLH_3)\n",
    "print(BIC_3)"
   ]
  },
  {
   "cell_type": "code",
   "execution_count": null,
   "id": "112b53b2",
   "metadata": {},
   "outputs": [],
   "source": [
    "BIC_4=k*np.log(n)-2*(LLH_4)\n",
    "print(BIC_4)"
   ]
  },
  {
   "cell_type": "code",
   "execution_count": null,
   "id": "e4e2c20d",
   "metadata": {},
   "outputs": [],
   "source": [
    "BIC_5=k*np.log(n)-2*(LLH_5)\n",
    "print(BIC_5)"
   ]
  },
  {
   "cell_type": "markdown",
   "id": "36a5be00",
   "metadata": {},
   "source": [
    "# QQ Plot"
   ]
  },
  {
   "cell_type": "code",
   "execution_count": null,
   "id": "637a8d1c",
   "metadata": {},
   "outputs": [],
   "source": [
    "Error_Distribution=RSS1,RSS2,RSS3,RSS4,RSS5\n",
    "print(Error_Distribution)"
   ]
  },
  {
   "cell_type": "code",
   "execution_count": null,
   "id": "05b234ac",
   "metadata": {},
   "outputs": [],
   "source": [
    "sm.qqplot(dfX['x1'], line ='45')\n",
    "py.show()"
   ]
  },
  {
   "cell_type": "markdown",
   "id": "07fe50f4",
   "metadata": {},
   "source": [
    "# Split into Testing and Training"
   ]
  },
  {
   "cell_type": "code",
   "execution_count": null,
   "id": "03a46481",
   "metadata": {},
   "outputs": [],
   "source": [
    "X_train, X_test, Y_train, Y_test = train_test_split(dfX,dfY,test_size = 0.3, random_state = 1)"
   ]
  },
  {
   "cell_type": "code",
   "execution_count": null,
   "id": "533f4944",
   "metadata": {},
   "outputs": [],
   "source": [
    "len(X_train)"
   ]
  },
  {
   "cell_type": "code",
   "execution_count": null,
   "id": "84bd5a7d",
   "metadata": {},
   "outputs": [],
   "source": [
    "len(X_test)"
   ]
  },
  {
   "cell_type": "code",
   "execution_count": null,
   "id": "12f74640",
   "metadata": {},
   "outputs": [],
   "source": [
    "y1=theta_hat[1]*dfX['x1']**3+theta_hat[1]*dfX['x1']**5+theta_hat[1]*dfX['x2']+theta_hat[1]+epsilon\n",
    "print(y1)"
   ]
  },
  {
   "cell_type": "code",
   "execution_count": null,
   "id": "df035b2b",
   "metadata": {},
   "outputs": [],
   "source": [
    "y1=theta_hat[1]*dfX['x1']**3+theta_hat[1]*dfX['x1']**5+theta_hat[1]*dfX['x2']+theta_hat[1]+epsilon\n",
    "print(y1[0])"
   ]
  },
  {
   "cell_type": "code",
   "execution_count": null,
   "id": "bc9f16ee",
   "metadata": {},
   "outputs": [],
   "source": [
    "# Define the model\n",
    "def modelOne(x, A, B):\n",
    "    y=theta_hat[1]*x1Mean**3+theta_hat[1]*x1Mean**5+theta_hat[1]*x2Mean+theta_hat[1]+epsilon\n",
    "    return y\n"
   ]
  },
  {
   "cell_type": "markdown",
   "id": "a16f4603",
   "metadata": {},
   "source": [
    "# Selected Best Model"
   ]
  },
  {
   "cell_type": "code",
   "execution_count": null,
   "id": "8238925e",
   "metadata": {},
   "outputs": [],
   "source": [
    "def modelOne(x, theta_hat):\n",
    "     y1=(theta_hat[1]*dfX['x1']**3)+(theta_hat[1]*dfX['x1']**5)+(theta_hat[1]*dfX['x2'])+theta_hat[1]+epsilon\n",
    "     return y1\n",
    "\n",
    "\n",
    "Y_pred = modelOne(dfX['x1'], theta_hat)\n",
    "\n",
    "#plot initial prediction against datapoints\n",
    "plt.plot(dfX['x1'], Y_pred, 'ro')\n"
   ]
  },
  {
   "cell_type": "code",
   "execution_count": null,
   "id": "491a22be",
   "metadata": {},
   "outputs": [],
   "source": []
  }
 ],
 "metadata": {
  "kernelspec": {
   "display_name": "Python 3 (ipykernel)",
   "language": "python",
   "name": "python3"
  },
  "language_info": {
   "codemirror_mode": {
    "name": "ipython",
    "version": 3
   },
   "file_extension": ".py",
   "mimetype": "text/x-python",
   "name": "python",
   "nbconvert_exporter": "python",
   "pygments_lexer": "ipython3",
   "version": "3.9.12"
  }
 },
 "nbformat": 4,
 "nbformat_minor": 5
}
